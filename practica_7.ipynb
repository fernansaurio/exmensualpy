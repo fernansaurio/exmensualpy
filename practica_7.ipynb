{
 "cells": [
  {
   "cell_type": "code",
   "execution_count": 3,
   "metadata": {},
   "outputs": [
    {
     "name": "stdout",
     "output_type": "stream",
     "text": [
      "20000 segundos equivalen a:\n",
      "5 horas, 33 minutos y 20 segundos.\n"
     ]
    }
   ],
   "source": [
    "segundos = int(input(\"Inserta la cantidad de segundos: \"))\n",
    "horas =  segundos // 3600\n",
    "segundos_faltantes = segundos % 3600\n",
    "minutos = segundos_faltantes // 60\n",
    "segundos_restantes_final = segundos_faltantes % 60\n",
    "\n",
    "print(f\"{segundos}segundos equivalen a:\")\n",
    "print(f\"{horas} horas, {minutos} minutos y {segundos_restantes_final} segundos\")\n"
   ]
  }
 ],
 "metadata": {
  "kernelspec": {
   "display_name": "base",
   "language": "python",
   "name": "python3"
  },
  "language_info": {
   "codemirror_mode": {
    "name": "ipython",
    "version": 3
   },
   "file_extension": ".py",
   "mimetype": "text/x-python",
   "name": "python",
   "nbconvert_exporter": "python",
   "pygments_lexer": "ipython3",
   "version": "3.9.13"
  },
  "orig_nbformat": 4
 },
 "nbformat": 4,
 "nbformat_minor": 2
}
